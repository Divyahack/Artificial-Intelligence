import random

# diamonds list 
dia = [6,14, 20,24,30,39,49,66,69,79,82,84,88]


# Player class
class Player:
	def __init__(self, inPlayerNum):
		self.playerPos = 1
		self.playerNum = inPlayerNum

	def updatePosition(self, inPos):
		self.playerPos = inPos

	def getPosition(self):
		return self.playerPos

	def getPlayerNum(self):
		return self.playerNum


# Function to handle the players turn
def gameMaster(inPlayer,c):
	global winner
	# check for game winner
	if sum(count)==13:
		if c[0]>c[1]:
		    print("Player 1 is the Winner!" )
		    winner = True
		else:
		    print("Player 2 is the Winner!" )
		    winner = True
            

	# run dice rolls and movements
	if winner == False:
		print("\n----Player %i Hit enter to roll----" , inPlayer.playerNum)
		# Uncomment to require space to be pressed before jumping turns
		# input()
		roll = rollDice()
		print("You rolled: %i" % roll)
		movePlayer(inPlayer, roll)
		checkPosition(inPlayer)


# Function to return the Integer value of a 6 side dice roll
def rollDice():
    return random.randint(1,6)


# Handle player movements
def movePlayer(inPlayer, roll):
	if int(inPlayer.getPosition() + roll) <= 100:
		inPlayer.updatePosition(inPlayer.getPosition() + roll)
		print("You are at spot %i" % inPlayer.getPosition())
	else:
		print("You rolled too far")


# Checks player landing position and adjusts if snake or ladder
def checkPosition(inPlayer):
	for pos in dia:
		if pos == inPlayer.getPosition():
			count[inPlayer.playerNum-1]=count[inPlayer.playerNum-1]+1



# Program entrance
if __name__ == '__main__':
	global winner
	count=[0,0]
	winner = False
	numPlayers = 2 
	playerList = [1,2]
   # global count=[0,0]
	
		
	while winner == False:
		for i in playerList:
			if winner == False:
				obj=Player(i)
				gameMaster(obj,count)